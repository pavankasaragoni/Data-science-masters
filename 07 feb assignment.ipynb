{
 "cells": [
  {
   "cell_type": "markdown",
   "id": "9ed62cea-5f19-4745-96ba-7a2ae092981a",
   "metadata": {},
   "source": [
    "#07 feb assignment\n"
   ]
  },
  {
   "cell_type": "markdown",
   "id": "da3d04b2-ad71-441b-8a91-400a2ac4d89b",
   "metadata": {},
   "source": [
    "#question 1\n",
    "Q1. You are writing code for a company. The requirement of the company is that you create a python\n",
    "function that will check whether the password entered by the user is correct or not. The function should\n",
    "take the password as input and return the string “Valid Password” if the entered password follows the\n",
    "below-given password guidelines else it should return “Invalid Password”.\n",
    "Note: 1. The Password should contain at least two uppercase letters and at least two lowercase letters.\n",
    "2. The Password should contain at least a number and three special characters.\n",
    "3. The length of the password should be 10 characters long."
   ]
  },
  {
   "cell_type": "code",
   "execution_count": null,
   "id": "4a19f844-743b-4ddf-a743-bcb4ede5bc71",
   "metadata": {},
   "outputs": [],
   "source": [
    "def pass_chek(passwrd):\n",
    "    SpecialSym =['$', '@', '#', '%']\n",
    "    l=True\n",
    "    c,m,j,k=0,0,0,0\n",
    "    for i in passwrd:\n",
    "        if len(passwrd)!=10:\n",
    "            l=False\n",
    "        if i.isupper():\n",
    "            c+=1\n",
    "        if i.islower():\n",
    "            m+=1\n",
    "        if i.isnumeric():\n",
    "            j+=1\n",
    "        if i in SpecialSym:\n",
    "            k+=1\n",
    "        else:\n",
    "            continue\n",
    "    if l and (c>=2 and m>=2 and j>=1 and k==3):\n",
    "        return \"Valid Password\"\n",
    "    else:\n",
    "        return \"Invalid Password\"\n",
    "        \n",
    "s=input()\n",
    "print(pass_chek(s))\n"
   ]
  },
  {
   "cell_type": "markdown",
   "id": "e53ff59d-bc28-420a-9eb0-c672bfcc0461",
   "metadata": {},
   "source": [
    "#question 2\n",
    "Q2. Solve the below-given questions using at least one of the following:\n",
    "1. Lambda functioJ\n",
    "2. Filter functioJ\n",
    "3. Zap functioJ\n",
    "4. List ComprehensioI\n",
    "B Check if the string starts with a particular letterY\n",
    "B Check if the string is numericY\n",
    "B Sort a list of tuples having fruit names and their quantity. [(\"mango\",99),(\"orange\",80), (\"grapes\", 1000)-\n",
    "B Find the squares of numbers from 1 to 10Y\n",
    "B Find the cube root of numbers from 1 to 10Y\n",
    "B Check if a given number is evenY\n",
    "B Filter odd numbers from the given list.\n",
    "[1,2,3,4,5,6,7,8,9,10-\n",
    "B Sort a list of integers into positive and negative integers lists.\n",
    "[1,2,3,4,5,6,-1,-2,-3,-4,-5,0]"
   ]
  },
  {
   "cell_type": "code",
   "execution_count": 8,
   "id": "5e3943bb-6128-435f-b7f5-2f26534d4f69",
   "metadata": {},
   "outputs": [
    {
     "name": "stdin",
     "output_type": "stream",
     "text": [
      " apple\n"
     ]
    },
    {
     "name": "stdout",
     "output_type": "stream",
     "text": [
      "True\n"
     ]
    }
   ],
   "source": [
    "#(1)\n",
    "s=input()\n",
    "k=[print(\"True\") if s.startswith(\"a\") else print(\"False\")]"
   ]
  },
  {
   "cell_type": "code",
   "execution_count": 9,
   "id": "794eb5ac-2c55-4b46-a27d-affa2af91e3e",
   "metadata": {},
   "outputs": [
    {
     "name": "stdin",
     "output_type": "stream",
     "text": [
      " 1234\n"
     ]
    },
    {
     "name": "stdout",
     "output_type": "stream",
     "text": [
      "True\n"
     ]
    }
   ],
   "source": [
    "#(2)\n",
    "s=input()\n",
    "k=[print(\"True\") if s.isnumeric() else print(\"False\")]"
   ]
  },
  {
   "cell_type": "code",
   "execution_count": 20,
   "id": "0accb777-b964-4077-98dd-5a87c66a5cc9",
   "metadata": {},
   "outputs": [
    {
     "name": "stdout",
     "output_type": "stream",
     "text": [
      "[('orange', 80), ('mango', 99), ('grapes', 1000)]\n"
     ]
    }
   ],
   "source": [
    "l= [(\"mango\",99),(\"orange\",80), (\"grapes\", 1000)]\n",
    "l.sort(key = lambda x: x[1])\n",
    "print(l)\n"
   ]
  },
  {
   "cell_type": "code",
   "execution_count": 13,
   "id": "fb9dd007-b98c-4e74-817b-2bb7bfd3bfe4",
   "metadata": {},
   "outputs": [
    {
     "name": "stdout",
     "output_type": "stream",
     "text": [
      "[1, 4, 9, 16, 25, 36, 49, 64, 81, 100]\n"
     ]
    }
   ],
   "source": [
    "l=[i for i in range(1,11)]\n",
    "k=list(map(lambda x:x**2 ,l))\n",
    "print(k)"
   ]
  },
  {
   "cell_type": "code",
   "execution_count": 14,
   "id": "f4ffc90e-ceee-4d4b-ac93-b012aaeb64ef",
   "metadata": {},
   "outputs": [
    {
     "name": "stdout",
     "output_type": "stream",
     "text": [
      "[1, 8, 27, 64, 125, 216, 343, 512, 729, 1000]\n"
     ]
    }
   ],
   "source": [
    "l=[i for i in range(1,11)]\n",
    "k=list(map(lambda x:x**3 ,l))\n",
    "print(k)"
   ]
  },
  {
   "cell_type": "code",
   "execution_count": 3,
   "id": "7bbf1b69-562f-4808-8fb1-b59c3f742737",
   "metadata": {},
   "outputs": [
    {
     "name": "stdin",
     "output_type": "stream",
     "text": [
      " 4\n"
     ]
    },
    {
     "data": {
      "text/plain": [
       "True"
      ]
     },
     "execution_count": 3,
     "metadata": {},
     "output_type": "execute_result"
    }
   ],
   "source": [
    "n=int(input())\n",
    "s=lambda n:n%2==0\n",
    "s(n)\n",
    "    \n"
   ]
  },
  {
   "cell_type": "code",
   "execution_count": 19,
   "id": "471c56f7-f213-4121-bd4c-f656d5162f85",
   "metadata": {},
   "outputs": [
    {
     "name": "stdout",
     "output_type": "stream",
     "text": [
      "[1, 3, 5, 7, 9]\n"
     ]
    }
   ],
   "source": [
    "l=[1,2,3,4,5,6,7,8,9,10]\n",
    "k=list(filter(lambda x:x%2!=0,l))\n",
    "print(k)"
   ]
  },
  {
   "cell_type": "code",
   "execution_count": 1,
   "id": "b17ce119-5398-45d1-8605-9373cf72b7b1",
   "metadata": {},
   "outputs": [
    {
     "name": "stdout",
     "output_type": "stream",
     "text": [
      "[0, 1, 2, 3, 4, 5, 6]\n",
      "[-5, -4, -3, -2, -1]\n"
     ]
    }
   ],
   "source": [
    "l=[1,2,3,4,5,6,-1,-2,-3,-4,-5,0]\n",
    "l=sorted(l)\n",
    "\n",
    "p=list(filter(lambda x:x>=0 ,l))\n",
    "n=list(filter(lambda x:x<0 ,l))\n",
    "p.sort()\n",
    "n.sort()\n",
    "print(p)\n",
    "print(n)"
   ]
  },
  {
   "cell_type": "code",
   "execution_count": null,
   "id": "fd206db2-4af1-449a-9506-c493cd0efe12",
   "metadata": {},
   "outputs": [],
   "source": []
  }
 ],
 "metadata": {
  "kernelspec": {
   "display_name": "Python 3 (ipykernel)",
   "language": "python",
   "name": "python3"
  },
  "language_info": {
   "codemirror_mode": {
    "name": "ipython",
    "version": 3
   },
   "file_extension": ".py",
   "mimetype": "text/x-python",
   "name": "python",
   "nbconvert_exporter": "python",
   "pygments_lexer": "ipython3",
   "version": "3.10.8"
  }
 },
 "nbformat": 4,
 "nbformat_minor": 5
}
