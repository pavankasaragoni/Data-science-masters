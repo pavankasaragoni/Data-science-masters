{
 "cells": [
  {
   "cell_type": "markdown",
   "id": "52ca79fd-a1c4-44f8-931f-f9358467a3b0",
   "metadata": {},
   "source": [
    "#04 feb assignment"
   ]
  },
  {
   "cell_type": "markdown",
   "id": "9b296b60-6c40-4c98-bdd1-7c1fd936b604",
   "metadata": {},
   "source": [
    "#question 1"
   ]
  },
  {
   "cell_type": "code",
   "execution_count": 2,
   "id": "f8e5ba17-59ba-4b73-8ed0-e0a48f71a822",
   "metadata": {},
   "outputs": [
    {
     "name": "stdout",
     "output_type": "stream",
     "text": [
      "[('Virat Kohli', 24936), ('Jack Kallis', 25534), ('Ricky Ponting', 27483), ('Sachin Tendulkar', 34357)]\n"
     ]
    }
   ],
   "source": [
    "tup=[('Sachin Tendulkar', 34357), ('Ricky Ponting', 27483), ('Jack Kallis', 25534), ('Virat Kohli', 24936)]\n",
    "tup.sort(key = lambda x: x[1])\n",
    "print(tup)"
   ]
  },
  {
   "cell_type": "markdown",
   "id": "9ce0b5d8-4db9-429d-8f7e-0f6ed7f138b8",
   "metadata": {},
   "source": [
    "#question 2"
   ]
  },
  {
   "cell_type": "code",
   "execution_count": 3,
   "id": "4508c531-9358-41bb-94b9-20641d08ad44",
   "metadata": {},
   "outputs": [
    {
     "name": "stdout",
     "output_type": "stream",
     "text": [
      "[1, 4, 9, 16, 25, 36, 49, 64, 81, 100]\n"
     ]
    }
   ],
   "source": [
    "l=[1, 2, 3, 4, 5, 6, 7, 8, 9, 10]\n",
    "l1=list(map(lambda x:x**2,l))\n",
    "print(l1)"
   ]
  },
  {
   "cell_type": "markdown",
   "id": "d3161ca0-030a-4614-bb82-9f120396e0f6",
   "metadata": {},
   "source": [
    "#question 3"
   ]
  },
  {
   "cell_type": "code",
   "execution_count": 5,
   "id": "9f8ae8c9-0bda-4bb8-91ad-1a7375ad0b6e",
   "metadata": {},
   "outputs": [
    {
     "name": "stdout",
     "output_type": "stream",
     "text": [
      "['1', '2', '3', '4', '5', '6', '7', '8', '9', '10']\n"
     ]
    }
   ],
   "source": [
    "l=[1, 2, 3, 4, 5, 6, 7, 8, 9, 10]\n",
    "l1=list(map(lambda x:str(x),l))\n",
    "print(l1)"
   ]
  },
  {
   "cell_type": "markdown",
   "id": "4f870b19-c2df-4533-bc1e-66a4e6c75ef1",
   "metadata": {},
   "source": [
    "#question 4"
   ]
  },
  {
   "cell_type": "code",
   "execution_count": 9,
   "id": "56ce6a73-7c75-49b6-a033-52716fc963c8",
   "metadata": {},
   "outputs": [
    {
     "name": "stdout",
     "output_type": "stream",
     "text": [
      "15511210043330985984000000\n"
     ]
    }
   ],
   "source": [
    "from functools import reduce\n",
    "l=[]\n",
    "for i in range(1,25+1):\n",
    "    l.append(i)\n",
    "l1=reduce(lambda x,y:x*y,l)\n",
    "print(l1)"
   ]
  },
  {
   "cell_type": "markdown",
   "id": "c444a9b8-c5ce-4ab3-828f-1aca1936e25e",
   "metadata": {},
   "source": [
    "#question 5"
   ]
  },
  {
   "cell_type": "code",
   "execution_count": 14,
   "id": "f2f0025c-1ae3-4f18-8669-a5b68e9f669b",
   "metadata": {},
   "outputs": [
    {
     "name": "stdout",
     "output_type": "stream",
     "text": [
      "[6, 60, 90, 120]\n"
     ]
    }
   ],
   "source": [
    "l=[2, 3, 6, 9, 27, 60, 90, 120, 55, 46]\n",
    "k=list(filter(lambda x:x%2==0 and x%3==0,l))\n",
    "print(k)"
   ]
  },
  {
   "cell_type": "markdown",
   "id": "84b50212-ee5a-40f4-a580-92709fc4cbd1",
   "metadata": {},
   "source": [
    "#question 6"
   ]
  },
  {
   "cell_type": "code",
   "execution_count": null,
   "id": "ed3e9be0-965f-420f-99a8-088b238893e3",
   "metadata": {},
   "outputs": [],
   "source": [
    "l=['python', 'php', 'aba', 'radar', 'level']\n",
    "p=list(filter(lambda x:x==x[::-1]"
   ]
  }
 ],
 "metadata": {
  "kernelspec": {
   "display_name": "Python 3 (ipykernel)",
   "language": "python",
   "name": "python3"
  },
  "language_info": {
   "codemirror_mode": {
    "name": "ipython",
    "version": 3
   },
   "file_extension": ".py",
   "mimetype": "text/x-python",
   "name": "python",
   "nbconvert_exporter": "python",
   "pygments_lexer": "ipython3",
   "version": "3.10.8"
  }
 },
 "nbformat": 4,
 "nbformat_minor": 5
}
