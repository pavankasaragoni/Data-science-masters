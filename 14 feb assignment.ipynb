{
 "cells": [
  {
   "cell_type": "markdown",
   "id": "aab0c7ef-e50f-403a-b141-67d73e27549d",
   "metadata": {},
   "source": [
    "1.what is multithreading in python? hy is it used? Name the module used to handle threads in python"
   ]
  },
  {
   "cell_type": "markdown",
   "id": "1ddd290a-fe0f-4ad4-9673-9efc7527d75e",
   "metadata": {},
   "source": [
    "Multithreading in Python is a technique where a program is divided into multiple threads of execution that can run concurrently. Each thread is a separate flow of control that can perform a specific task, and the threads share the same memory space, allowing them to communicate and coordinate with each other.\n",
    "\n",
    "Multithreading is used in Python to perform multiple tasks simultaneously and make programs more efficient by utilizing the available hardware resources. It is especially useful in applications that involve I/O operations or other tasks that are blocking, as it allows the program to continue executing other tasks while waiting for the blocked task to complete.\n",
    "\n",
    "In Python, the threading module is used to handle threads. This module provides a simple and easy-to-use interface for creating and managing threads, with support for features such as thread synchronization, thread-safe data structures, and thread communication. The threading module is part of the standard Python library, so it is available on all platforms where Python is supported."
   ]
  },
  {
   "cell_type": "markdown",
   "id": "b08f957f-d96b-4879-8655-bbfdb1d63ec8",
   "metadata": {},
   "source": [
    "2.why threading module used? write the use of the following functions"
   ]
  },
  {
   "cell_type": "markdown",
   "id": "949f16e2-e9b8-4651-96ed-d4a8e9b58297",
   "metadata": {},
   "source": [
    "activeCount() currentThread() enumerate()\n",
    "\n",
    "The threading module in Python is used to create and manage threads in a program. There are several reasons why you might want to use threading in your Python program:\n",
    "\n",
    "Concurrency: Threading allows multiple parts of a program to run concurrently, which can improve the performance and efficiency of the program. By running multiple threads at the same time, the program can utilize the available hardware resources more effectively.\n",
    "\n",
    "Asynchronous I/O: Threading can be used to perform asynchronous I/O operations, where the program can continue executing other tasks while waiting for I/O operations to complete. This can be useful in applications that involve network communication, file I/O, or other types of I/O that are blocking.\n",
    "\n",
    "Parallelism: Threading can be used to perform tasks in parallel, where multiple threads can work on the same task simultaneously. This can be useful in applications that involve heavy computation, as it can reduce the time required to complete the task.\n",
    "\n",
    "Synchronization: Threading provides mechanisms for synchronizing access to shared resources, such as data structures or files, to avoid conflicts and ensure thread safety.\n",
    "\n",
    "activeCount(): The activeCount() function is used to get the number of thread objects that are currently active in the program. This can be useful for monitoring the status of threads and ensuring that all threads have completed before exiting the program.\n",
    "\n",
    "currentThread(): The currentThread() function is used to get a reference to the current thread object that is executing the function. This can be useful for identifying the current thread, and for passing the thread object to other functions for manipulation.\n",
    "\n",
    "enumerate(): The enumerate() function is used to get a list of all thread objects that are currently active in the program. This can be useful for iterating over all active threads and performing operations on them, such as waiting for them to complete or checking their status."
   ]
  },
  {
   "cell_type": "markdown",
   "id": "48cdb2f2-d73a-4372-a7fc-93936eb37b04",
   "metadata": {},
   "source": [
    "3.Explain the following functions\n"
   ]
  },
  {
   "cell_type": "markdown",
   "id": "d6b7e084-4875-4aaf-b5b3-15e6e1bec168",
   "metadata": {},
   "source": [
    "run() start() join() isAlive()\n",
    "\n",
    "run(): The run() method is the entry point for the thread. When a thread is started, its run() method is called. This method can be overridden to define the thread's behavior.\n",
    "\n",
    "start(): The start() method is used to start the execution of a thread. When the start() method is called, the thread's run() method is executed in a separate thread of execution.\n",
    "\n",
    "join(): The join() method is used to wait for the thread to complete its execution. When the join() method is called, the program waits until the thread completes before continuing execution.\n",
    "\n",
    "isAlive(): The isAlive() method is used to check whether the thread is currently executing. The method returns True if the thread is currently executing, and False otherwise."
   ]
  },
  {
   "cell_type": "code",
   "execution_count": null,
   "id": "2c710e5d-2e99-4095-bf74-b7d48d34e237",
   "metadata": {},
   "outputs": [],
   "source": [
    "4.write a python program to create two threads. Thread one must print the list of squares and thread\n",
    "two must print the list of cubes"
   ]
  },
  {
   "cell_type": "code",
   "execution_count": null,
   "id": "a92ab98d-7d87-4faa-b778-39e024364f4e",
   "metadata": {},
   "outputs": [],
   "source": [
    "import threading\n",
    "\n",
    "def print_squares():\n",
    "    for i in range(1, 11):\n",
    "        print(f\"Square of {i} = {i**2}\")\n",
    "\n",
    "def print_cubes():\n",
    "    for i in range(1, 11):\n",
    "        print(f\"Cube of {i} = {i**3}\")\n",
    "\n",
    "t1 = threading.Thread(target=print_squares)\n",
    "t2 = threading.Thread(target=print_cubes)\n",
    "\n",
    "t1.start()\n",
    "t2.start()\n",
    "\n",
    "\n",
    "t1.join()\n",
    "t2.join()"
   ]
  },
  {
   "cell_type": "markdown",
   "id": "0d5f7445-233a-4f76-8e63-50db5740a6a0",
   "metadata": {},
   "source": [
    "5.State advantages and disadvantages of multithreading"
   ]
  },
  {
   "cell_type": "markdown",
   "id": "b8b0269c-112b-49cd-9b5f-6194480020dc",
   "metadata": {},
   "source": [
    "Advantages of Multithreading:\n",
    "\n",
    "Improved performance: Multithreading allows a program to perform multiple tasks simultaneously, which can lead to better performance and faster execution times. This is especially useful in applications that involve I/O or other tasks that are blocking.\n",
    "\n",
    "Resource sharing: Multithreading allows threads to share resources such as memory and CPU time, which can lead to more efficient resource utilization.\n",
    "\n",
    "Asynchronous execution: Multithreading can be used to perform asynchronous I/O operations, where the program can continue executing other tasks while waiting for I/O operations to complete. This can improve the responsiveness of the program.\n",
    "\n",
    "Parallel processing: Multithreading can be used to perform tasks in parallel, where multiple threads can work on the same task simultaneously. This can reduce the time required to complete the task.\n",
    "\n",
    "Disadvantages of Multithreading:\n",
    "\n",
    "Complexity: Multithreading adds complexity to a program, making it more difficult to design, develop, and debug. It can be challenging to ensure thread safety and avoid race conditions and deadlocks.\n",
    "\n",
    "Overhead: Multithreading introduces overhead in terms of memory and CPU time, as each thread requires its own stack and context switching between threads requires additional processing time.\n",
    "\n",
    "Synchronization issues: Multithreading introduces synchronization issues, as threads may access shared resources simultaneously, leading to conflicts and data corruption.\n",
    "\n",
    "Debugging challenges: Debugging multithreaded programs can be challenging, as the behavior of the program can be non-deterministic and difficult to reproduce."
   ]
  },
  {
   "cell_type": "markdown",
   "id": "d653b4e5-2d6b-4be0-9841-a78e52364f01",
   "metadata": {},
   "source": [
    "6.Explain deadlocks and race conditions."
   ]
  },
  {
   "cell_type": "markdown",
   "id": "4bc4153f-4ab1-4c2b-9aba-26dc74b05591",
   "metadata": {},
   "source": [
    "Deadlocks occur when two or more threads are waiting for each other to release resources that they need in order to proceed. Deadlocks can occur when a thread holds a resource and then tries to acquire another resource that is held by another thread, which is also waiting for the first thread to release the resource it holds. This can result in a situation where both threads are waiting for each other to release the resources they need, and neither can proceed. Deadlocks can be difficult to detect and resolve, as they can be intermittent and dependent on timing and scheduling.\n",
    "\n",
    "Race conditions occur when two or more threads access a shared resource simultaneously and the behavior of the program depends on the order in which the threads execute. Race conditions can occur when a shared resource is not properly synchronized, allowing multiple threads to access it simultaneously. This can lead to unexpected and unpredictable behavior, as the behavior of the program depends on the timing and scheduling of the threads. Race conditions can be difficult to detect and reproduce, as they can be dependent on timing and other factors."
   ]
  },
  {
   "cell_type": "code",
   "execution_count": null,
   "id": "18fc539d-b0dd-4e91-b464-7d48ed378035",
   "metadata": {},
   "outputs": [],
   "source": []
  }
 ],
 "metadata": {
  "kernelspec": {
   "display_name": "Python 3 (ipykernel)",
   "language": "python",
   "name": "python3"
  },
  "language_info": {
   "codemirror_mode": {
    "name": "ipython",
    "version": 3
   },
   "file_extension": ".py",
   "mimetype": "text/x-python",
   "name": "python",
   "nbconvert_exporter": "python",
   "pygments_lexer": "ipython3",
   "version": "3.10.8"
  }
 },
 "nbformat": 4,
 "nbformat_minor": 5
}
