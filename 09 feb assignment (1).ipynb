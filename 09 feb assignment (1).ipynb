{
 "cells": [
  {
   "cell_type": "markdown",
   "id": "cd08cd0a-7379-474c-9cd6-a077c904ece3",
   "metadata": {},
   "source": [
    "#o9 feb assignment"
   ]
  },
  {
   "cell_type": "markdown",
   "id": "cfd563ba-8a58-435b-8e3e-698b20985474",
   "metadata": {},
   "source": [
    "Q1, Create a vehicle class with an init method having instance variables as name_of_vehicle, max_speed\n",
    "and average_of_vehicle."
   ]
  },
  {
   "cell_type": "code",
   "execution_count": 1,
   "id": "073d31ee-861b-4eca-8576-b6522c339280",
   "metadata": {},
   "outputs": [],
   "source": [
    "class vehicle():\n",
    "    def __init__(self,name_vehicle,max_speed,avg_vehicle):\n",
    "        self.name_vehicle=name_vehicle\n",
    "        self.max_speed=max_speed\n",
    "        self.avg_vehicle=avg_vehicle\n",
    "\n",
    "        "
   ]
  },
  {
   "cell_type": "markdown",
   "id": "bf0fd776-e8be-49c4-885c-07984e6b88f2",
   "metadata": {},
   "source": [
    "Q2. Create a child class car from the vehicle class created in Que 1, which will inherit the vehicle class.\n",
    "Create a method named seating_capacity which takes capacity as an argument and returns the name of\n",
    "the vehicle and its seating capacity."
   ]
  },
  {
   "cell_type": "code",
   "execution_count": 3,
   "id": "47a05620-2054-451f-810f-82e394931725",
   "metadata": {},
   "outputs": [],
   "source": [
    "class vehicle():\n",
    "    def __init__(self,name_vehicle,max_speed,avg_vehicle):\n",
    "        self.name_vehicle=name_vehicle\n",
    "        self.max_speed=max_speed\n",
    "        self.avg_vehicle=avg_vehicle\n",
    "class car(vehicle):\n",
    "    def seating_capacity(capacity):\n",
    "        self.capacity=capacity\n",
    "        return self.name_vehicle,self.capacity\n",
    "    "
   ]
  },
  {
   "cell_type": "markdown",
   "id": "22f61b98-6aa8-4e93-82ba-560d6088f173",
   "metadata": {},
   "source": [
    "Q3. What is multiple inheritance? Write a python code to demonstrate multiple inheritance."
   ]
  },
  {
   "cell_type": "code",
   "execution_count": 16,
   "id": "aa1eddcc-2197-435c-ab53-e5f0a3a1371c",
   "metadata": {},
   "outputs": [
    {
     "name": "stdout",
     "output_type": "stream",
     "text": [
      "Father : Surya\n",
      "Mother : Sonali\n"
     ]
    }
   ],
   "source": [
    "class Mother:\n",
    "    mothername = \"\"\n",
    " \n",
    "    def mother(self):\n",
    "        print(self.mothername)\n",
    " \n",
    " \n",
    "class Father:\n",
    "    fathername = \"\"\n",
    " \n",
    "    def father(self):\n",
    "        print(self.fathername)\n",
    " \n",
    " \n",
    "class Son(Mother, Father):\n",
    "    def parents(self):\n",
    "        print(\"Father :\", self.fathername)\n",
    "        print(\"Mother :\", self.mothername)\n",
    " \n",
    " \n",
    "s1 = Son()\n",
    "s1.fathername = \"Surya\"\n",
    "s1.mothername = \"Sonali\"\n",
    "s1.parents()\n"
   ]
  },
  {
   "cell_type": "markdown",
   "id": "9db928a1-2699-4664-befb-ad7637a4d60e",
   "metadata": {},
   "source": [
    "Q4. What are getter and setter in python? Create a class and create a getter and a setter method in this\n",
    "class."
   ]
  },
  {
   "cell_type": "code",
   "execution_count": 10,
   "id": "d7e6df47-cd7f-47d5-ae2e-b110fe89227f",
   "metadata": {},
   "outputs": [
    {
     "data": {
      "text/plain": [
       "23"
      ]
     },
     "execution_count": 10,
     "metadata": {},
     "output_type": "execute_result"
    }
   ],
   "source": [
    "class details:\n",
    "    def __init_(self,age=0):\n",
    "        self.age=age\n",
    "    def getage(self):\n",
    "        return self.age\n",
    "    def setage(self,x):\n",
    "        self.age=x\n",
    "pavan=details()\n",
    "pavan.setage(23)\n",
    "pavan.getage()"
   ]
  },
  {
   "cell_type": "markdown",
   "id": "b44e7805-c4fc-4f7a-9e89-65e7358a83be",
   "metadata": {},
   "source": [
    "Q5.What is method overriding in python? Write a python code to demonstrate method overriding."
   ]
  },
  {
   "cell_type": "code",
   "execution_count": 17,
   "id": "d4d46787-2f24-4158-bb78-0e2cb2c419a8",
   "metadata": {},
   "outputs": [
    {
     "name": "stdout",
     "output_type": "stream",
     "text": [
      "Inside Parent\n",
      "Inside Child\n"
     ]
    }
   ],
   "source": [
    "class Parent():\n",
    "      \n",
    "    def __init__(self):\n",
    "        self.value = \"Inside Parent\"\n",
    "          \n",
    "    def show(self):\n",
    "        print(self.value)\n",
    "          \n",
    "class Child(Parent):\n",
    "      \n",
    "    def __init__(self):\n",
    "        self.value = \"Inside Child\"\n",
    "        \n",
    "    def show(self):\n",
    "        print(self.value)\n",
    "          \n",
    "obj1 = Parent()\n",
    "obj2 = Child()\n",
    "  \n",
    "obj1.show()\n",
    "obj2.show()"
   ]
  },
  {
   "cell_type": "code",
   "execution_count": null,
   "id": "d407aaf0-c30e-49b8-aae5-b8de16eec742",
   "metadata": {},
   "outputs": [],
   "source": []
  }
 ],
 "metadata": {
  "kernelspec": {
   "display_name": "Python 3 (ipykernel)",
   "language": "python",
   "name": "python3"
  },
  "language_info": {
   "codemirror_mode": {
    "name": "ipython",
    "version": 3
   },
   "file_extension": ".py",
   "mimetype": "text/x-python",
   "name": "python",
   "nbconvert_exporter": "python",
   "pygments_lexer": "ipython3",
   "version": "3.10.8"
  }
 },
 "nbformat": 4,
 "nbformat_minor": 5
}
