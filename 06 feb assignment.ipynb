{
 "cells": [
  {
   "cell_type": "markdown",
   "id": "2b3cb1d1-5cba-4b15-816d-7ef302c50887",
   "metadata": {},
   "source": [
    "\n",
    "#06 feb assignment"
   ]
  },
  {
   "cell_type": "markdown",
   "id": "6f35fc26-e90a-48a5-a610-8dfce9bdc56a",
   "metadata": {},
   "source": [
    "#question 1\n",
    "Q1. Create a function which will take a list as an argument and return the product of all the numbers\n",
    "after creating a flat list.\n",
    "Use the below-given list as an argument for your function.\n",
    "list1 = [1,2,3,4, [44,55,66, True], False, (34,56,78,89,34), {1,2,3,3,2,1}, {1:34, \"key2\": [55, 67, 78, 89], 4: (45,\n",
    "22, 61, 34)}, [56, 'data science'], 'Machine Learning']"
   ]
  },
  {
   "cell_type": "code",
   "execution_count": 3,
   "id": "8b46878c-ed95-44f9-8f73-5a6191ff44f4",
   "metadata": {},
   "outputs": [
    {
     "name": "stdout",
     "output_type": "stream",
     "text": [
      "(4134711838987085478833841242112000, [1, 2, 3, 4, 44, 55, 66, 34, 56, 78, 89, 34, 1, 2, 3, 1, 4, 34, 55, 67, 78, 89, 45, 22, 61, 34, 56])\n"
     ]
    }
   ],
   "source": [
    "from functools import reduce\n",
    "def func(l):\n",
    "    lst = []\n",
    "    for i in l:\n",
    "        if type(i) == int:\n",
    "            lst.append(i)\n",
    "        elif type(i) == list or type(i) == tuple or type(i) == set:\n",
    "            for j in i:\n",
    "                if type(j) == int:\n",
    "                    lst.append(j)\n",
    "        elif type(i) == dict:\n",
    "            for k in i.keys():\n",
    "                if type(k) == int:\n",
    "                    lst.append(k)\n",
    "            for m in i.values():\n",
    "                if type(m) == int:\n",
    "                    lst.append(m)\n",
    "                elif type(m) == list or type(m) == tuple or type(m) == set:\n",
    "                    for n in m:\n",
    "                        if type(n) == int:\n",
    "                            lst.append(n)\n",
    "                            \n",
    "    ans = reduce(lambda x,y: x*y,lst)\n",
    "    return ans ,lst\n",
    "k=func( [1,2,3,4, [44,55,66, True], False, (34,56,78,89,34), {1,2,3,3,2,1}, {1:34, \"key2\": [55, 67, 78, 89], 4: (45, 22, 61, 34)}, [56, 'data science'], 'Machine Learning'])\n",
    "\n",
    "print(k)"
   ]
  },
  {
   "cell_type": "code",
   "execution_count": null,
   "id": "4808b2f0-53db-49ab-a7af-122ed8da04fd",
   "metadata": {},
   "outputs": [],
   "source": []
  },
  {
   "cell_type": "markdown",
   "id": "0571c13b-de7c-401d-a1d6-4e938a8c4d98",
   "metadata": {},
   "source": [
    "#question 2\n",
    "Q2. Write a python program for encrypting a message sent to you by your friend. The logic of encryption\n",
    "should be such that, for a the output should be z. For b, the output should be y. For c, the output should\n",
    "be x respectively. Also, the whitespace should be replaced with a dollar sign. Keep the punctuation\n",
    "marks unchanged.\n",
    "Input Sentence: I want to become a Data Scientist.\n",
    "Encrypt the above input sentence using the program you just created."
   ]
  },
  {
   "cell_type": "code",
   "execution_count": 5,
   "id": "61759684-d2f0-4a34-9a61-cf4f917df091",
   "metadata": {},
   "outputs": [
    {
     "name": "stdout",
     "output_type": "stream",
     "text": [
      "i$wznt$to$yexome$z$dztz$sxientist\n"
     ]
    }
   ],
   "source": [
    "s=\"I want to become a Data Scientist\"\n",
    "def en(s):\n",
    "    dic = {\"a\":\"z\",\"b\":\"y\",\"c\":\"x\",\" \":\"$\" }\n",
    "    for i in dic.keys():\n",
    "        s = s.replace(i, dic[i])\n",
    "    return s\n",
    "s=\"I want to become a Data Scientist\"\n",
    "s=s.lower()\n",
    "print(en(s))\n",
    "\n"
   ]
  },
  {
   "cell_type": "code",
   "execution_count": null,
   "id": "3de0a6d3-0c6b-42d2-a730-efe1392fa58b",
   "metadata": {},
   "outputs": [],
   "source": []
  }
 ],
 "metadata": {
  "kernelspec": {
   "display_name": "Python 3 (ipykernel)",
   "language": "python",
   "name": "python3"
  },
  "language_info": {
   "codemirror_mode": {
    "name": "ipython",
    "version": 3
   },
   "file_extension": ".py",
   "mimetype": "text/x-python",
   "name": "python",
   "nbconvert_exporter": "python",
   "pygments_lexer": "ipython3",
   "version": "3.10.8"
  }
 },
 "nbformat": 4,
 "nbformat_minor": 5
}
