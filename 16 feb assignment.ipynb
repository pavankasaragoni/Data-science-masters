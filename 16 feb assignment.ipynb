{
 "cells": [
  {
   "cell_type": "markdown",
   "id": "be4d85ae-f795-4790-8be1-200cd4999206",
   "metadata": {},
   "source": [
    "##16 feb assignment\n"
   ]
  },
  {
   "cell_type": "markdown",
   "id": "a474bb55-4637-4329-bb9d-ce00e2fe7018",
   "metadata": {},
   "source": [
    "Q1. What is a database? Differentiate between SQL and NoSQL databases."
   ]
  },
  {
   "cell_type": "markdown",
   "id": "fd53038f-8816-41ec-ba17-df0041b3c35c",
   "metadata": {},
   "source": [
    "A database is an organized collection of structured or unstructured data that can be accessed, managed, and updated in a systematic way. Databases are used to store and manage data for various applications, ranging from small-scale personal applications to large-scale enterprise systems.\n",
    "Key Differences between SQL and NoSQL\n",
    "SQL pronounced as “S-Q-L” or as “See-Quel” is primarily called RDBMS or Relational Databases, whereas NoSQL is a Non-relational or Distributed Database.\n",
    "Comparing SQL vs NoSQL databases, SQL databases are table-based databases, whereas NoSQL databases can be document-based, key-value pairs, and graph databases.\n",
    "SQL databases are vertically scalable, while NoSQL databases are horizontally scalable.\n",
    "SQL databases have a predefined schema, whereas NoSQL databases use a dynamic schema for unstructured data.\n",
    "Comparing NoSQL vs SQL performance, SQL requires specialized DB hardware for better performance while NoSQL uses commodity hardware."
   ]
  },
  {
   "cell_type": "markdown",
   "id": "05e21a57-6fde-4aeb-94fd-a97c1bc1569f",
   "metadata": {},
   "source": [
    "Q2. What is DDL? Explain why CREATE, DROP, ALTER, and TRUNCATE are used with an example."
   ]
  },
  {
   "cell_type": "markdown",
   "id": "ccece47a-645a-4f9e-b6b5-3e66dbdc0a1a",
   "metadata": {},
   "source": [
    "DDL stands for Data Definition Language, which is a set of SQL commands used to create, modify, and delete database objects such as tables, indexes, and constraints. DDL is used to define the structure of a database and its objects.\n",
    "\n",
    "The following are some of the commonly used DDL commands and their usage:\n",
    "\n",
    "CREATE: The CREATE command is used to create a new database object such as a table, index, or view. For example, to create a new table named \"users\" with columns for user ID, name, and email address, we can use the following SQL statement: DROP: The DROP command is used to delete an existing database object such as a table, index, or view. For example, to delete the \"users\" table created above, we can use the following SQL statement: ALTER: The ALTER command is used to modify the structure of an existing database object such as a table or index. For example, to add a new column \"age\" to the \"users\" table created above, we can use the following SQL statement: TRUNCATE: The TRUNCATE command is used to delete all data from a table without deleting the table itself. For example, to delete all data from the \"users\" table created above, we can use the following SQL statement:"
   ]
  },
  {
   "cell_type": "markdown",
   "id": "b8f378b9-ac43-4e8d-a5d9-f44c1ddfffe2",
   "metadata": {},
   "source": [
    "Q3. What is DML? Explain INSERT, UPDATE, and DELETE with an example."
   ]
  },
  {
   "cell_type": "markdown",
   "id": "91e2c49d-24b6-4168-898e-b2262141e972",
   "metadata": {},
   "source": [
    "DML stands for Data Manipulation Language, which is a set of SQL commands used to insert, update, and delete data in a database table. DML commands are used to modify the data stored in a table.\n",
    "\n",
    "The following are some of the commonly used DML commands and their usage:\n",
    "\n",
    "INSERT: The INSERT command is used to insert new data into a table. For example, to insert a new row into the \"users\" table with ID 1, name \"John\", and email \"john@example.com\", we can use the following SQL statement: UPDATE: The UPDATE command is used to update existing data in a table. For example, to update the email address of the user with ID 1 to \"john.doe@example.com\", we can use the following SQL statement: sql DELETE: The DELETE command is used to delete data from a table. For example, to delete the user with ID 1 from the \"users\" table, we can use the following SQL statement:"
   ]
  },
  {
   "cell_type": "markdown",
   "id": "f3801048-c7da-47b8-9a83-3015e6fa0762",
   "metadata": {
    "tags": []
   },
   "source": [
    "Q4. What is DQL? Explain SELECT with an example.\n",
    "\n",
    "DQL stands for Data Query Language, which is a set of SQL commands used to retrieve data from a database table. DQL commands are used to query the data stored in a table.\n",
    "\n",
    "The most commonly used DQL command is SELECT. The SELECT command is used to retrieve data from one or more tables. Here's an example of how to use the SELECT command:"
   ]
  },
  {
   "cell_type": "markdown",
   "id": "eb9b40ae-0546-4680-87e1-5e2bd623a028",
   "metadata": {},
   "source": [
    "Q5. Explain Primary Key and Foreign Key.\n",
    "\n",
    "a primary key is a unique identifier for each row in a table. It is a column or combination of columns that uniquely identifies each record in a table. The primary key constraint ensures that the values in the primary key column(s) are unique and not null. For example, in a \"users\" table, the \"id\" column can be the primary key if each user has a unique ID number.\n",
    "\n",
    "A foreign key is a column or combination of columns in one table that refers to the primary key of another table. It establishes a relationship between two tables, where the values in the foreign key column(s) of one table match the values in the primary key column(s) of another table. For example, in a \"orders\" table, the \"user_id\" column can be a foreign key that refers to the \"id\" column of the \"users\" table, indicating which user placed each order."
   ]
  },
  {
   "cell_type": "markdown",
   "id": "baac460a-5e64-4140-bb92-e39bef409b1b",
   "metadata": {},
   "source": [
    "Q6. Write a python code to connect MySQL to python. Explain the cursor() and execute() method."
   ]
  },
  {
   "cell_type": "code",
   "execution_count": null,
   "id": "6fc9796d-4d58-4636-b336-e0a4b4b654f1",
   "metadata": {},
   "outputs": [],
   "source": [
    "!pip install mysql\n",
    "import mysql.connector\n",
    "from mysql.connector import Error\n",
    "\n",
    "try:\n",
    "    connection = mysql.connector.connect(host='localhost',\n",
    "                                         database='Electronics',\n",
    "                                         user='pynative',\n",
    "                                         password='pynative@#29')\n",
    "    if connection.is_connected():\n",
    "        db_Info = connection.get_server_info()\n",
    "        print(\"Connected to MySQL Server version \", db_Info)\n",
    "        cursor = connection.cursor()\n",
    "        cursor.execute(\"select database();\")\n",
    "        record = cursor.fetchone()\n",
    "        print(\"You're connected to database: \", record)\n",
    "\n",
    "except Error as e:\n",
    "    print(\"Error while connecting to MySQL\", e)\n",
    "finally:\n",
    "    if connection.is_connected():\n",
    "        cursor.close()\n",
    "        connection.close()\n",
    "        print(\"MySQL connection is closed\")\n"
   ]
  },
  {
   "cell_type": "markdown",
   "id": "2a511523-4c57-4691-b0ef-2863582e6cb8",
   "metadata": {},
   "source": [
    "Q7. Give the order of execution of SQL clauses in an SQL query."
   ]
  },
  {
   "cell_type": "markdown",
   "id": "66a1d1e3-5d72-43ea-8997-5e3bee9f6fed",
   "metadata": {},
   "source": [
    "SELECT: Specifies the columns to be retrieved from the database table. FROM: Specifies the table from which to retrieve the data. JOIN: Combines multiple tables based on a common column. WHERE: Filters the data based on certain conditions. GROUP BY: Groups the data based on one or more"
   ]
  }
 ],
 "metadata": {
  "kernelspec": {
   "display_name": "Python 3 (ipykernel)",
   "language": "python",
   "name": "python3"
  },
  "language_info": {
   "codemirror_mode": {
    "name": "ipython",
    "version": 3
   },
   "file_extension": ".py",
   "mimetype": "text/x-python",
   "name": "python",
   "nbconvert_exporter": "python",
   "pygments_lexer": "ipython3",
   "version": "3.10.8"
  }
 },
 "nbformat": 4,
 "nbformat_minor": 5
}
