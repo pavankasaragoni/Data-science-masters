{
 "cells": [
  {
   "cell_type": "markdown",
   "id": "f19b5fed-7f85-4ad7-97ac-60c70c3804be",
   "metadata": {},
   "source": [
    "#10 feb assignment"
   ]
  },
  {
   "cell_type": "markdown",
   "id": "44b22acf-9bb5-4890-8f0d-a8499faa3d5f",
   "metadata": {},
   "source": [
    "#question 1\n",
    "Q1. Which function is used to open a file? What are the different modes of opening a file? Explain each mode\n",
    "of file opening."
   ]
  },
  {
   "cell_type": "markdown",
   "id": "38feeab4-5976-47c3-ab9d-736ee34c4731",
   "metadata": {},
   "source": [
    "Read Only (‘r’): Open text file for reading. The handle is positioned at the beginning of the file. If the file does not exist, raises an I/O error. This is also the default mode in which the file is opened.\n",
    "\n",
    "Read and Write (‘r+’): Open the file for reading and writing. The handle is positioned at the beginning of the file. Raises I/O error if the file does not exist.\n",
    "\n",
    "Write Only (‘w’): Open the file for writing. For the existing files, the data is truncated and over-written. The handle is positioned at the beginning of the file. Creates the file if the file does not exist.\n",
    "\n",
    "Write and Read (‘w+’): Open the file for reading and writing. For existing files, data is truncated and over-written. The handle is positioned at the beginning of the file.\n",
    "\n",
    "Append Only (‘a’): Open the file for writing. The file is created if it does not exist. The handle is positioned at the end of the file. The data being written will be inserted at the end, after the existing data.\n",
    "\n",
    "Append and Read (‘a+’): Open the file for reading and writing. The file is created if it does not exist. The handle is positioned at the end of the file. The data being written will be inserted at the end, after the existing data."
   ]
  },
  {
   "cell_type": "markdown",
   "id": "c2309365-d51b-4722-b717-5c3c5ea62203",
   "metadata": {},
   "source": [
    "#question 2\n",
    "Q2. Why close() function is used? Why is it important to close a file?"
   ]
  },
  {
   "cell_type": "markdown",
   "id": "c92be3b1-7b7c-43d1-95bd-4dc1ecce947c",
   "metadata": {},
   "source": [
    "There are several reasons to close a file:\n",
    "When you write to a file the OS doesn’t actually write to the file right away. Instead it often buffers the data in memory and writes to it when it has time, or when another process isn’t writing to the disk. You can call flush() to flush the file to the disk.\n",
    "\n",
    "When a file is open the operating system has to keep track of it and this uses some resources. Closing the file releases the resources. On a large system running many process you can use up all of the resources to keep track of open files. This may prevent any process from opening another file. When the process ends or crashes the OS is supposed to clean up for you.\n",
    "\n",
    "If your program crashes or hangs before closing the file, the file may not be closed correctly. This can cause you to loose all or some of the data in the file.\n",
    "\n",
    "If another process wants to read a file, it may be prevented from reading an open file. This depends on how you open the file."
   ]
  },
  {
   "cell_type": "markdown",
   "id": "6f0bfcaa-6dd5-43ef-af04-6d18d1cb222c",
   "metadata": {},
   "source": [
    "#question 3\n",
    "Q3. Write a python program to create a text file. Write ‘I want to become a Data Scientist’ in that file. Then\n",
    "close the file. Open this file and read the content of the file."
   ]
  },
  {
   "cell_type": "code",
   "execution_count": 1,
   "id": "5fa8f262-3bb8-4e52-a275-e634efa6feac",
   "metadata": {},
   "outputs": [],
   "source": [
    "txt=open(\"pavan.txtx\",\"w\")\n",
    "txt.write(\"I want to become a Data Scientist\")\n",
    "txt.close()"
   ]
  },
  {
   "cell_type": "code",
   "execution_count": 3,
   "id": "90fe4e72-e6ca-428f-9f93-dd60634efe7b",
   "metadata": {},
   "outputs": [
    {
     "data": {
      "text/plain": [
       "'I want to become a Data Scientist'"
      ]
     },
     "execution_count": 3,
     "metadata": {},
     "output_type": "execute_result"
    }
   ],
   "source": [
    "test=open(\"pavan.txtx\",\"r\")\n",
    "test.read()"
   ]
  },
  {
   "cell_type": "markdown",
   "id": "d2639457-5333-477d-ac70-3dbe81cbc7d5",
   "metadata": {},
   "source": [
    "#question 4\n",
    "Q5. Explain why with statement is used with open(). What is the advantage of using with statement and\n",
    "open() together?"
   ]
  },
  {
   "cell_type": "markdown",
   "id": "bc34f28b-fe30-45db-8a90-ad9d281e1e47",
   "metadata": {},
   "source": [
    "The read() method returns the specified number of bytes from the file. Default is -1 which means the whole file"
   ]
  },
  {
   "cell_type": "code",
   "execution_count": 7,
   "id": "4d9bda22-0cc1-41c9-81bb-cb37c2fc8445",
   "metadata": {},
   "outputs": [
    {
     "data": {
      "text/plain": [
       "'I want t'"
      ]
     },
     "execution_count": 7,
     "metadata": {},
     "output_type": "execute_result"
    }
   ],
   "source": [
    "file=open(\"pavan.txtx\",\"r\")\n",
    "file.read(8)"
   ]
  },
  {
   "cell_type": "code",
   "execution_count": 9,
   "id": "5af559b0-6793-4df6-869e-f21229e9d9f7",
   "metadata": {},
   "outputs": [
    {
     "data": {
      "text/plain": [
       "'I want to become a Data Scientist'"
      ]
     },
     "execution_count": 9,
     "metadata": {},
     "output_type": "execute_result"
    }
   ],
   "source": [
    "file=open(\"pavan.txtx\",\"r\")\n",
    "\n",
    "file.readline()"
   ]
  },
  {
   "cell_type": "code",
   "execution_count": 10,
   "id": "8e13725d-b431-4582-b63e-6268a6ca86d9",
   "metadata": {},
   "outputs": [
    {
     "data": {
      "text/plain": [
       "['I want to become a Data Scientist']"
      ]
     },
     "execution_count": 10,
     "metadata": {},
     "output_type": "execute_result"
    }
   ],
   "source": [
    "file=open(\"pavan.txtx\",\"r\")\n",
    "file.readlines()"
   ]
  },
  {
   "cell_type": "markdown",
   "id": "ccf178f4-abd7-4092-88be-a218366926eb",
   "metadata": {},
   "source": [
    "#question 5\n",
    "Q5. Explain why with statement is used with open(). What is the advantage of using with statement and\n",
    "open() together?"
   ]
  },
  {
   "cell_type": "markdown",
   "id": "0d2026b7-45b1-4399-9644-267cdde38977",
   "metadata": {},
   "source": [
    "The with statement works with the open() function to open a file.\n",
    "Unlike open() where you have to close the file with the close() method, the with statement closes the file for you without you telling it to.\n",
    "This is because the with statement calls 2 built-in methods behind the scene – enter() and exit(). The exit() method closes the file when the operation you specify is done.So the combination of with and open() is better because the with statement closes the file for you and you get to write less code."
   ]
  },
  {
   "cell_type": "markdown",
   "id": "f032e344-4c05-4a91-b690-335e850f416b",
   "metadata": {},
   "source": [
    "#question 6\n",
    "Q6. Explain the write() and writelines() functions. Give a suitable example."
   ]
  },
  {
   "cell_type": "markdown",
   "id": "2c271191-da30-475a-b999-38ae6e53c207",
   "metadata": {},
   "source": [
    "The write() function will write the content in the file without adding any extra characters."
   ]
  },
  {
   "cell_type": "code",
   "execution_count": null,
   "id": "c5b75c3f-3ebc-4cc1-9e66-46f1b38cf057",
   "metadata": {},
   "outputs": [],
   "source": [
    "file1=open(\"pavan.txtx\",\"w\")\n",
    "for i in range(2):\n",
    "    name=input(\"enter the name\")\n",
    "    file1.write(name)\n",
    "    file1.write(\"\\n\")\n",
    "file1.close()\n",
    "print(\"names is written into the files\")"
   ]
  },
  {
   "cell_type": "code",
   "execution_count": 3,
   "id": "8095d00b-986c-491d-ba89-98335e05b9f8",
   "metadata": {},
   "outputs": [
    {
     "name": "stdin",
     "output_type": "stream",
     "text": [
      "enter the name pavan\n",
      "enter the name kavya\n"
     ]
    },
    {
     "name": "stdout",
     "output_type": "stream",
     "text": [
      "names are written into the file1\n"
     ]
    }
   ],
   "source": [
    "file1=open(\"pavan.txtx\",\"w\")\n",
    "l=[]\n",
    "for i in range(2):\n",
    "    name=input(\"enter the name\")\n",
    "    l.append(name+\"\\n\")\n",
    "file1.writelines(l)\n",
    "file1.close()\n",
    "print(\"names are written into the file1\")"
   ]
  },
  {
   "cell_type": "code",
   "execution_count": null,
   "id": "69f1fc22-e03f-406c-90f1-7ad88dd0982f",
   "metadata": {},
   "outputs": [],
   "source": []
  }
 ],
 "metadata": {
  "kernelspec": {
   "display_name": "Python 3 (ipykernel)",
   "language": "python",
   "name": "python3"
  },
  "language_info": {
   "codemirror_mode": {
    "name": "ipython",
    "version": 3
   },
   "file_extension": ".py",
   "mimetype": "text/x-python",
   "name": "python",
   "nbconvert_exporter": "python",
   "pygments_lexer": "ipython3",
   "version": "3.10.8"
  }
 },
 "nbformat": 4,
 "nbformat_minor": 5
}
