{
 "cells": [
  {
   "cell_type": "markdown",
   "id": "c507e435-79d7-4895-9de5-2fa65e055af1",
   "metadata": {},
   "source": [
    "##15 feb assignment"
   ]
  },
  {
   "cell_type": "markdown",
   "id": "16c0f978-f66a-4ce3-b686-cf045b77116c",
   "metadata": {},
   "source": [
    "Q1. What is multiprocessing in python? Why is it useful?"
   ]
  },
  {
   "cell_type": "markdown",
   "id": "6cd2521f-4cba-49d5-95e3-56e71075fd1e",
   "metadata": {},
   "source": [
    "Multiprocessing refers to the ability of a system to support more than one processor at the same time. Applications in a multiprocessing system are broken to smaller routines that run independently. The operating system allocates these threads to the processors improving performance of the system.\n",
    "Consider a computer system with a single processor. If it is assigned several processes at the same time, it will have to interrupt each task and switch briefly to another, to keep all of the processes going.\n",
    "This situation is just like a chef working in a kitchen alone. He has to do several tasks like baking, stirring, kneading dough, etc.\n",
    "\n",
    "So the gist is that: The more tasks you must do at once, the more difficult it gets to keep track of them all, and keeping the timing right becomes more of a challenge.\n",
    "This is where the concept of multiprocessing arises!\n",
    "A multiprocessing system can have:\n",
    "\n",
    "multiprocessor, i.e. a computer with more than one central processor.\n",
    "multi-core processor, i.e. a single computing component with two or more independent actual processing units (called “cores”"
   ]
  },
  {
   "cell_type": "markdown",
   "id": "ca1ef78d-2c74-4a29-9db8-54614767cf8b",
   "metadata": {},
   "source": [
    "Q2. What are the differences between multiprocessing and multithreading?"
   ]
  },
  {
   "cell_type": "markdown",
   "id": "bf2b25bc-1220-46b6-8bcc-fc62f852843b",
   "metadata": {},
   "source": [
    "Multiprocessing uses two or more CPUs to increase computing power, whereas multithreading uses a single process with multiple code segments to increase computing power. Multithreading focuses on generating computing threads from a single process, whereas multiprocessing increases computing power by adding CPUs"
   ]
  },
  {
   "cell_type": "markdown",
   "id": "a6cd1090-a88f-4ea3-98cc-292e14dc7790",
   "metadata": {},
   "source": [
    "Q3. Write a python code to create a process using the multiprocessing module."
   ]
  },
  {
   "cell_type": "code",
   "execution_count": 2,
   "id": "73601fa8-966c-4294-b67d-b914252c215a",
   "metadata": {},
   "outputs": [
    {
     "name": "stdout",
     "output_type": "stream",
     "text": [
      "Square: 100\n",
      "Cube: 1000\n",
      "Done!\n"
     ]
    }
   ],
   "source": [
    "\n",
    "import multiprocessing\n",
    "  \n",
    "def print_cube(num):\n",
    "    print(\"Cube: {}\".format(num * num * num))\n",
    "  \n",
    "def print_square(num):\n",
    "    print(\"Square: {}\".format(num * num))\n",
    "  \n",
    "if __name__ == \"__main__\":\n",
    "    # creating processes\n",
    "    p1 = multiprocessing.Process(target=print_square, args=(10, ))\n",
    "    p2 = multiprocessing.Process(target=print_cube, args=(10, ))\n",
    "    p1.start()\n",
    "    p2.start()\n",
    "    p1.join()\n",
    "    p2.join()\n",
    "    print(\"Done!\")"
   ]
  },
  {
   "cell_type": "markdown",
   "id": "184d11ee-3b5c-4e24-a667-7931c4345315",
   "metadata": {},
   "source": [
    "Q4. What is a multiprocessing pool in python? Why is it used?"
   ]
  },
  {
   "cell_type": "markdown",
   "id": "3c80770a-c091-4db7-88a1-47d59e3827b5",
   "metadata": {},
   "source": [
    "Python multiprocessing Pool can be used for parallel execution of a function across multiple input values, distributing the input data across processes (data parallelism)."
   ]
  },
  {
   "cell_type": "markdown",
   "id": "7de0e4b7-afdf-4340-9961-d5ce43e83b07",
   "metadata": {},
   "source": [
    "Q5. How can we create a pool of worker processes in python using the multiprocessing module?"
   ]
  },
  {
   "cell_type": "markdown",
   "id": "71194559-b2c3-450a-8d77-6eb98e293e01",
   "metadata": {},
   "source": [
    "Creating a processing pool of worker processes is generally a difficult task. You need to take care of scheduling jobs, processing the queue, handling the processes, and the most difficult part, handling synchronization between the processes without too much overhead.\n",
    "\n",
    "With multiprocessing however, these problems have been solved already. You can simply create a process pool with a given number of processes and just add tasks to it whenever you need to. The following is an example of a multiprocessing version of the map operator and demonstrates that processing will not stall the application:"
   ]
  },
  {
   "cell_type": "code",
   "execution_count": 6,
   "id": "a0b53b32-bf68-4fa9-a1aa-e2aef4424468",
   "metadata": {},
   "outputs": [
    {
     "name": "stdout",
     "output_type": "stream",
     "text": [
      ">got (8, 0.025741398876005683)\n",
      ">got (6, 0.09008392056180081)\n",
      ">got (2, 0.329143886435159)\n",
      ">got (3, 0.4055838486428035)\n",
      ">got (5, 0.4179745456959545)\n",
      ">got (9, 0.46620297100457464)\n",
      ">got (7, 0.5746986548654193)\n",
      ">got (0, 0.6080679265443173)\n",
      ">got (4, 0.8883833646854418)\n",
      ">got (1, 0.8992185034688764)\n"
     ]
    }
   ],
   "source": [
    "\n",
    "from time import sleep\n",
    "from random import random\n",
    "from multiprocessing import Pool\n",
    " \n",
    "# task to execute in a new process\n",
    "def task(value):\n",
    "    # generate a random value\n",
    "    random_value = random()\n",
    "    # block for moment\n",
    "    sleep(random_value)\n",
    "    # return result\n",
    "    return (value, random_value)\n",
    " \n",
    "# protect the entry point\n",
    "if __name__ == '__main__':\n",
    "    # create the process pool\n",
    "    with Pool() as pool:\n",
    "        # issue tasks and process results\n",
    "        for result in pool.imap_unordered(task, range(10)):\n",
    "            print(f'>got {result}')"
   ]
  },
  {
   "cell_type": "markdown",
   "id": "0604ec05-9fb1-4523-ab7d-4063e5949663",
   "metadata": {},
   "source": [
    "Q6. Write a python program to create 4 processes, each process should print a different number using the\n",
    "multiprocessing module in python."
   ]
  },
  {
   "cell_type": "code",
   "execution_count": 9,
   "id": "090b608d-1398-4a88-934a-edbd9298ae11",
   "metadata": {},
   "outputs": [
    {
     "name": "stdout",
     "output_type": "stream",
     "text": [
      "The number squares to  49The number cubes to \n",
      " 343\n",
      "Works\n",
      "Completed\n",
      "We're done\n"
     ]
    }
   ],
   "source": [
    "import multiprocessing\n",
    "from multiprocessing import Process\n",
    "def star():\n",
    "    print(\"Completed\")\n",
    "def testing():\n",
    "      print(\"Works\")\n",
    "def square(n):\n",
    "       print(\"The number squares to \",n**2)\n",
    "def cube(n):\n",
    "       print(\"The number cubes to \",n**3)\n",
    "if __name__==\"__main__\":\n",
    "   p1=Process(target=square,args=(7,))\n",
    "   p2=Process(target=cube,args=(7,))\n",
    "   p3=Process(target=testing)\n",
    "   p4=Process(target=star)\n",
    "   p1.start()\n",
    "   p2.start()\n",
    "   p3.start()\n",
    "   p4.start()\n",
    "   p1.join()\n",
    "   p2.join()\n",
    "   p3.join()\n",
    "   p4.join()\n",
    "   print(\"We're done\")"
   ]
  },
  {
   "cell_type": "code",
   "execution_count": null,
   "id": "c79e5f63-0b16-4e6b-8ba7-6623247049dd",
   "metadata": {},
   "outputs": [],
   "source": []
  }
 ],
 "metadata": {
  "kernelspec": {
   "display_name": "Python 3 (ipykernel)",
   "language": "python",
   "name": "python3"
  },
  "language_info": {
   "codemirror_mode": {
    "name": "ipython",
    "version": 3
   },
   "file_extension": ".py",
   "mimetype": "text/x-python",
   "name": "python",
   "nbconvert_exporter": "python",
   "pygments_lexer": "ipython3",
   "version": "3.10.8"
  }
 },
 "nbformat": 4,
 "nbformat_minor": 5
}
