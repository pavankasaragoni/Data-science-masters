{
 "cells": [
  {
   "cell_type": "markdown",
   "id": "53e94b68-a465-4209-8c64-1dbe3ddd023a",
   "metadata": {},
   "source": [
    "#12 feb assignment"
   ]
  },
  {
   "cell_type": "markdown",
   "id": "6e662128-5690-4027-b4ce-76f35f174963",
   "metadata": {},
   "source": [
    "#question 1\n",
    "Q1. What is an Exception in python? Write the differen,beetween Exceptions and syntax errors?"
   ]
  },
  {
   "cell_type": "markdown",
   "id": "da094e19-5ab6-4a9e-b3c7-218b3c557e2d",
   "metadata": {},
   "source": [
    "An exception is an event, which occurs during the execution of a program that disrupts the normal flow of the program's instructions. In general, when a Python script encounters a situation that it cannot cope with, it raises an exception. An exception is a Python object that represents an error.\n",
    "Errors are the problems in a program due to which the program will stop the execution. On the other hand, exceptions are raised when some internal events occur which changes the normal flow of the program. \n",
    "Two types of Error occurs in python. \n",
    " \n",
    "\n",
    "Syntax errors\n",
    "Logical errors (Exceptions) \n",
    "Syntax errors\n",
    "When the proper syntax of the language is not followed then a syntax error is thrown.\n",
    "logical errors(Exception)\n",
    "When in the runtime an error that occurs after passing the syntax test is called exception or logical type. For example, when we divide any number by zero then the ZeroDivisionError exception is raised, or when we import a module that does not exist then ImportError is raised.\n",
    "When an error and an exception are raised then we handle that with the help of the Handling method.\n",
    " \n",
    "\n",
    "Handling Exceptions with Try/Except/Finally \n",
    "We can handle errors by the Try/Except/Finally method. we write unsafe code in the try, fall back code in except and final code in finally block."
   ]
  },
  {
   "cell_type": "markdown",
   "id": "2be448a2-7dc3-453d-9db5-3cbbb577e573",
   "metadata": {},
   "source": [
    "Q2. What happens when an exception is not handled? Explain with an example"
   ]
  },
  {
   "cell_type": "markdown",
   "id": "c21e406f-9ca2-49ff-92df-4604f1caff34",
   "metadata": {},
   "source": [
    "When an exception occurred, if you don't handle it, the program terminates abruptly and the code past the line that caused the exception will not get executed."
   ]
  },
  {
   "cell_type": "code",
   "execution_count": null,
   "id": "2187d0d0-8364-4287-91ea-022aa829eaff",
   "metadata": {},
   "outputs": [],
   "source": [
    "try:\n",
    "    a = 5/0\n",
    "    print(a)\n",
    "except:\n",
    "    a = 5/(0*6)\n",
    "    \n",
    "finally:\n",
    "    print(\"this is not possible\")"
   ]
  },
  {
   "cell_type": "markdown",
   "id": "7723a469-242c-459a-bb48-b31d0ebc0c72",
   "metadata": {},
   "source": [
    "Q3"
   ]
  },
  {
   "cell_type": "markdown",
   "id": "cb44ad2f-38aa-477c-8102-8f01e5a66847",
   "metadata": {},
   "source": [
    "The try and except block in Python is used to catch and handle exceptions. Python executes code following the try statement as a “normal” part of the program. The code that follows the except statement is the program's response to any exceptions in the preceding try clause."
   ]
  },
  {
   "cell_type": "code",
   "execution_count": 4,
   "id": "3c0fc5f0-c702-403b-93c3-74ddf7d4e37b",
   "metadata": {},
   "outputs": [
    {
     "name": "stdout",
     "output_type": "stream",
     "text": [
      "integer division or modulo by zero\n"
     ]
    }
   ],
   "source": [
    "try:\n",
    "    a=5\n",
    "    b=0\n",
    "    print(a//b)\n",
    "except Exception as e:\n",
    "    print(e)"
   ]
  },
  {
   "cell_type": "markdown",
   "id": "eafaacd8-8830-47ad-bd6b-623f8d009048",
   "metadata": {},
   "source": [
    "Q4. Explain with example:#\n",
    "a.try and else#\n",
    "b.finally\n",
    "c.raise"
   ]
  },
  {
   "cell_type": "code",
   "execution_count": 1,
   "id": "c8afd984-1d25-45ee-942d-42ec2184e5e8",
   "metadata": {},
   "outputs": [
    {
     "name": "stdout",
     "output_type": "stream",
     "text": [
      "2.0\n",
      "5.0\n"
     ]
    }
   ],
   "source": [
    "def divide(x, y):\n",
    "    try:\n",
    "        result = x / y\n",
    "    except ZeroDivisionError:\n",
    "        print(\"Cannot divide by zero\")\n",
    "    else:\n",
    "        return result\n",
    "\n",
    "print(divide(10, 5)) \n",
    "print(divide(10, 2))"
   ]
  },
  {
   "cell_type": "code",
   "execution_count": 2,
   "id": "9083ef92-3796-46a7-9dfb-544a10e2754c",
   "metadata": {},
   "outputs": [
    {
     "name": "stdout",
     "output_type": "stream",
     "text": [
      "Executing finally block\n",
      "2.0\n",
      "Cannot divide by zero\n",
      "Executing finally block\n",
      "None\n"
     ]
    }
   ],
   "source": [
    "def divide(x, y):\n",
    "    try:\n",
    "        result = x / y\n",
    "    except ZeroDivisionError:\n",
    "        print(\"Cannot divide by zero\")\n",
    "        result = None\n",
    "    finally:\n",
    "        print(\"Executing finally block\")\n",
    "    return result\n",
    "\n",
    "print(divide(10, 5)) \n",
    "print(divide(10, 0)) "
   ]
  },
  {
   "cell_type": "code",
   "execution_count": 5,
   "id": "fe5130f1-a068-4350-aadd-b13538722d7b",
   "metadata": {},
   "outputs": [
    {
     "name": "stdout",
     "output_type": "stream",
     "text": [
      "2.0\n",
      "cannot divide by zero\n"
     ]
    }
   ],
   "source": [
    "def divide(x,y):\n",
    "    if y==0:\n",
    "        raise ZeroDivisionError(\"cannot divide by zero\")\n",
    "    return x/y\n",
    "try:\n",
    "    print(divide(10,5))\n",
    "    print(divide(10,0))\n",
    "except ZeroDivisionError as e:\n",
    "    print(e)"
   ]
  },
  {
   "cell_type": "markdown",
   "id": "3545524d-cbb9-4cb9-a7f8-cc882dbcfc75",
   "metadata": {},
   "source": [
    "Q5. What are Custom Exceptions in python? Why do we need Custom Exceptions? Explain with an example"
   ]
  },
  {
   "cell_type": "markdown",
   "id": "3ae8f0bb-e975-4b89-8771-21ff4bd3ddb9",
   "metadata": {},
   "source": [
    "Custom exceptions are user-defined exceptions in Python. They allow you to define specific types of exceptions for your application, so you can handle errors and exceptions in a more organized and meaningful way.\n",
    "\n",
    "For example, consider a scenario where you are writing a library that performs some mathematical calculations. In this library, you may encounter several different types of errors, such as invalid input, overflow, and divide-by-zero errors. You could handle these errors by raising built-in exceptions, such as ValueError or ZeroDivisionError, but it may not provide enough context or information about the error that has occurred."
   ]
  },
  {
   "cell_type": "code",
   "execution_count": 7,
   "id": "5c80ce58-d769-45a0-9fd0-97c760b311e9",
   "metadata": {},
   "outputs": [
    {
     "name": "stdout",
     "output_type": "stream",
     "text": [
      "2.0\n",
      "Input values must be positive\n",
      "None\n",
      "Cannot divide by zero\n",
      "None\n"
     ]
    }
   ],
   "source": [
    "class InvalidInputError(Exception):\n",
    "    pass\n",
    "\n",
    "class OverflowError(Exception):\n",
    "    pass\n",
    "\n",
    "class DivideByZeroError(Exception):\n",
    "    pass\n",
    "\n",
    "def divide(x, y):\n",
    "    if y == 0:\n",
    "        raise DivideByZeroError(\"Cannot divide by zero\")\n",
    "    return x / y\n",
    "\n",
    "def calculate(x, y):\n",
    "    try:\n",
    "        if x < 0 or y < 0:\n",
    "            raise InvalidInputError(\"Input values must be positive\")\n",
    "        result = divide(x, y)\n",
    "    except DivideByZeroError as e:\n",
    "        print(e)\n",
    "    except InvalidInputError as e:\n",
    "        print(e)\n",
    "    else:\n",
    "        return result\n",
    "\n",
    "print(calculate(10, 5)) \n",
    "print(calculate(-10, 5)) \n",
    "print(calculate(10, 0))"
   ]
  },
  {
   "cell_type": "markdown",
   "id": "f14afe48-c2ce-4c69-bdf6-32582052cf1e",
   "metadata": {},
   "source": [
    "Q6. Create a custom exception class. Use this class to handle an exception.\n",
    "\n"
   ]
  },
  {
   "cell_type": "code",
   "execution_count": 8,
   "id": "90e65646-41bd-424e-ba2b-ee14e6926feb",
   "metadata": {},
   "outputs": [
    {
     "name": "stdout",
     "output_type": "stream",
     "text": [
      "2.0\n",
      "Cannot divide by zero\n"
     ]
    }
   ],
   "source": [
    "class CustomException(Exception):\n",
    "    pass\n",
    "\n",
    "def divide(x, y):\n",
    "    if y == 0:\n",
    "        raise CustomException(\"Cannot divide by zero\")\n",
    "    return x / y\n",
    "\n",
    "try:\n",
    "    print(divide(10, 5)) \n",
    "    print(divide(10, 0))\n",
    "except CustomException as e:\n",
    "    print(e) \n",
    "     "
   ]
  },
  {
   "cell_type": "code",
   "execution_count": null,
   "id": "2a99e3fe-5880-45fc-bfcf-9766d8e1f039",
   "metadata": {},
   "outputs": [],
   "source": []
  }
 ],
 "metadata": {
  "kernelspec": {
   "display_name": "Python 3 (ipykernel)",
   "language": "python",
   "name": "python3"
  },
  "language_info": {
   "codemirror_mode": {
    "name": "ipython",
    "version": 3
   },
   "file_extension": ".py",
   "mimetype": "text/x-python",
   "name": "python",
   "nbconvert_exporter": "python",
   "pygments_lexer": "ipython3",
   "version": "3.10.8"
  }
 },
 "nbformat": 4,
 "nbformat_minor": 5
}
